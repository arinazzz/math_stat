{
 "cells": [
  {
   "cell_type": "code",
   "execution_count": 9,
   "metadata": {},
   "outputs": [],
   "source": [
    "import numpy as np\n",
    "import math"
   ]
  },
  {
   "cell_type": "code",
   "execution_count": 10,
   "metadata": {},
   "outputs": [
    {
     "name": "stdout",
     "output_type": "stream",
     "text": [
      "[108.67017381  66.28880603  20.21808584   4.11101079   0.62692915]\n"
     ]
    }
   ],
   "source": [
    "n = 109 + 65 + 22 + 3 + 1\n",
    "\n",
    "def p(k):\n",
    "    l = 122 / 200\n",
    "    return l ** k * np.exp(-l) / math.factorial(k)\n",
    "\n",
    "\n",
    "p = np.vectorize(p)\n",
    "\n",
    "P = np.array([0, 1, 2, 3, 4])\n",
    "\n",
    "nP = p(P) * n\n",
    "\n",
    "print(nP)\n"
   ]
  },
  {
   "cell_type": "markdown",
   "metadata": {},
   "source": [
    "объединяем 4 и 5 события"
   ]
  },
  {
   "cell_type": "code",
   "execution_count": 11,
   "metadata": {},
   "outputs": [
    {
     "name": "stdout",
     "output_type": "stream",
     "text": [
      "[108.88773165  66.20374084  20.12593722   4.69884281]\n"
     ]
    }
   ],
   "source": [
    "def p(k):\n",
    "    l = 0.608\n",
    "    return l ** k * np.exp(-l) / math.factorial(k)\n",
    "\n",
    "\n",
    "p = np.vectorize(p)\n",
    "\n",
    "nP = p(P) * n\n",
    "\n",
    "nP[-2] += nP[-1]\n",
    "nP = nP[:-1] \n",
    "\n",
    "print(nP)"
   ]
  },
  {
   "cell_type": "code",
   "execution_count": 12,
   "metadata": {},
   "outputs": [
    {
     "name": "stdout",
     "output_type": "stream",
     "text": [
      "0.3004458358890472\n"
     ]
    }
   ],
   "source": [
    "m = [109, 65, 22, 4]\n",
    "\n",
    "delta = sum((nP - m) ** 2 / nP)\n",
    "\n",
    "print(delta)"
   ]
  }
 ],
 "metadata": {
  "kernelspec": {
   "display_name": "venv",
   "language": "python",
   "name": "python3"
  },
  "language_info": {
   "codemirror_mode": {
    "name": "ipython",
    "version": 3
   },
   "file_extension": ".py",
   "mimetype": "text/x-python",
   "name": "python",
   "nbconvert_exporter": "python",
   "pygments_lexer": "ipython3",
   "version": "3.12.3"
  }
 },
 "nbformat": 4,
 "nbformat_minor": 2
}
