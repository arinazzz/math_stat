{
  "nbformat": 4,
  "nbformat_minor": 0,
  "metadata": {
    "colab": {
      "provenance": []
    },
    "kernelspec": {
      "name": "python3",
      "display_name": "Python 3"
    },
    "language_info": {
      "name": "python"
    }
  },
  "cells": [
    {
      "cell_type": "code",
      "execution_count": 8,
      "metadata": {
        "id": "TasuKxcZgwvr"
      },
      "outputs": [],
      "source": [
        "import matplotlib.pyplot as plt\n",
        "import numpy as np\n",
        "from scipy.stats import f\n",
        "from scipy.stats import ncf\n",
        "from scipy.stats import norm"
      ]
    },
    {
      "cell_type": "markdown",
      "source": [
        "Критерий:"
      ],
      "metadata": {
        "id": "PXKxOvd2hPd4"
      }
    },
    {
      "cell_type": "code",
      "source": [
        "alpha = 0.05\n",
        "\n",
        "Sx_lenght, Sy_lenght = 5.722, 6.161\n",
        "Sx_width, Sy_width = 4.612, 5.055\n",
        "\n",
        "n = 139\n",
        "m = 1000\n",
        "\n",
        "delta2 = f.ppf(alpha / 2, n-1, m-1)\n",
        "delta1 = f.ppf(1 - alpha / 2, n-1, m-1)\n",
        "\n",
        "print(f\"критические значения : {delta2} - {delta1}\")"
      ],
      "metadata": {
        "colab": {
          "base_uri": "https://localhost:8080/"
        },
        "id": "XbbNeDpvhM5t",
        "outputId": "6c0ed5a2-946b-4d7d-8b31-553b3c9b5a0b"
      },
      "execution_count": 3,
      "outputs": [
        {
          "output_type": "stream",
          "name": "stdout",
          "text": [
            "критические значения : 0.7673823155977318 - 1.2716970730369903\n"
          ]
        }
      ]
    },
    {
      "cell_type": "code",
      "source": [
        "x = Sx_lenght ** 2 / Sy_lenght ** 2\n",
        "y = Sx_width ** 2 / Sy_width ** 2\n",
        "\n",
        "print(f\"delta: {x}, {y}\")"
      ],
      "metadata": {
        "colab": {
          "base_uri": "https://localhost:8080/"
        },
        "id": "7jB4nUViiiwd",
        "outputId": "311469b3-d739-4d87-f572-85a8170a67ff"
      },
      "execution_count": 5,
      "outputs": [
        {
          "output_type": "stream",
          "name": "stdout",
          "text": [
            "delta: 0.8625678945904338, 0.8324080612765026\n"
          ]
        }
      ]
    },
    {
      "cell_type": "markdown",
      "source": [
        "Нет оснований отвергнуть гипотезу о равенстве дисперсий"
      ],
      "metadata": {
        "id": "5C4_kRZbkzAU"
      }
    },
    {
      "cell_type": "markdown",
      "source": [
        "Построим зависимость мощности от отношения дисперсий"
      ],
      "metadata": {
        "id": "ilQTxr1PlZq_"
      }
    },
    {
      "cell_type": "code",
      "source": [
        "a = np.linspace(0.5, 2, 100)\n",
        "\n",
        "W = 1 - f.cdf(delta1, n-1, m-1, scale=a) + f.cdf(delta2, n-1, m-1, scale=a)\n",
        "\n",
        "plt.plot(a, W, label=\"Мощность критерия\", color=\"red\")"
      ],
      "metadata": {
        "colab": {
          "base_uri": "https://localhost:8080/",
          "height": 448
        },
        "id": "GZbI4-tQlgua",
        "outputId": "8762bdcf-3c4c-4c2d-838f-358597604b67"
      },
      "execution_count": 7,
      "outputs": [
        {
          "output_type": "execute_result",
          "data": {
            "text/plain": [
              "[<matplotlib.lines.Line2D at 0x7ddeb950b650>]"
            ]
          },
          "metadata": {},
          "execution_count": 7
        },
        {
          "output_type": "display_data",
          "data": {
            "text/plain": [
              "<Figure size 640x480 with 1 Axes>"
            ],
            "image/png": "[encoded data removed]"
          },
          "metadata": {}
        }
      ]
    }
  ]
}