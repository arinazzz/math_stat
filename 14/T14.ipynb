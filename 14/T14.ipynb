{
  "nbformat": 4,
  "nbformat_minor": 0,
  "metadata": {
    "colab": {
      "provenance": []
    },
    "kernelspec": {
      "name": "python3",
      "display_name": "Python 3"
    },
    "language_info": {
      "name": "python"
    }
  },
  "cells": [
    {
      "cell_type": "code",
      "execution_count": 8,
      "metadata": {
        "id": "0ubmtslLmWgI"
      },
      "outputs": [],
      "source": [
        "import matplotlib.pyplot as plt\n",
        "import numpy as np\n",
        "from scipy.stats import f\n",
        "from scipy.stats import ncf\n",
        "from scipy.stats import norm"
      ]
    },
    {
      "cell_type": "markdown",
      "source": [
        "Критерий:"
      ],
      "metadata": {
        "id": "9uMr5wLqmasm"
      }
    },
    {
      "cell_type": "code",
      "source": [
        "alpha = 0.05\n",
        "n = 3\n",
        "m = 2\n",
        "x = np.array([-1.11, -6.10, 2.42])\n",
        "y = np.array([-2.29, -2.91])\n",
        "sigma_x = 2\n",
        "sigma_y = 1"
      ],
      "metadata": {
        "id": "GradoOs3mfZ5"
      },
      "execution_count": 9,
      "outputs": []
    },
    {
      "cell_type": "code",
      "source": [
        "delta = x.mean() - y.mean()\n",
        "\n",
        "N = norm(loc=0, scale=np.sqrt(sigma_x/n + sigma_y/m))\n",
        "\n",
        "print(f\"delta : {delta}\")\n",
        "\n",
        "q = N.ppf(1-alpha)\n",
        "print(f\"квантиль : {q}\")\n",
        "\n",
        "p_value = N.sf(delta)\n",
        "print(f\"p-value : {p_value}\")\n"
      ],
      "metadata": {
        "colab": {
          "base_uri": "https://localhost:8080/"
        },
        "id": "IKiZVZZ4m-XP",
        "outputId": "32428f5d-0f99-4733-b880-6391a8febc89"
      },
      "execution_count": 11,
      "outputs": [
        {
          "output_type": "stream",
          "name": "stdout",
          "text": [
            "delta : 1.0033333333333334\n",
            "квантиль : 1.776644973851364\n",
            "p-value : 0.17646885841229104\n"
          ]
        }
      ]
    },
    {
      "cell_type": "markdown",
      "source": [
        "Нет оснований отвергнуть гипотезу"
      ],
      "metadata": {
        "id": "V05g0c2jpSoz"
      }
    },
    {
      "cell_type": "markdown",
      "source": [
        "Построим график мощности от разности параметров"
      ],
      "metadata": {
        "id": "FcleaDelpijQ"
      }
    },
    {
      "cell_type": "code",
      "source": [
        "c = np.linspace(0, 5, 100)\n",
        "W = N.sf(-c + q)\n",
        "\n",
        "plt.plot(c, W, label=\"Мощность критерия\", color=\"red\")"
      ],
      "metadata": {
        "colab": {
          "base_uri": "https://localhost:8080/",
          "height": 448
        },
        "id": "dbomCB2Opdvt",
        "outputId": "221e07f2-5cd2-49db-f41f-7c8a742b1a30"
      },
      "execution_count": 12,
      "outputs": [
        {
          "output_type": "execute_result",
          "data": {
            "text/plain": [
              "[<matplotlib.lines.Line2D at 0x7cdd5b841350>]"
            ]
          },
          "metadata": {},
          "execution_count": 12
        },
        {
          "output_type": "display_data",
          "data": {
            "text/plain": [
              "<Figure size 640x480 with 1 Axes>"
            ],
            "image/png": "[encoded data removed]"
          },
          "metadata": {}
        }
      ]
    }
  ]
}