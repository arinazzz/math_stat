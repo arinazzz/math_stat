{
 "cells": [
  {
   "cell_type": "code",
   "execution_count": 98,
   "metadata": {},
   "outputs": [],
   "source": [
    "import numpy as np\n",
    "import math\n",
    "from scipy.special import kolmogorov\n"
   ]
  },
  {
   "cell_type": "markdown",
   "metadata": {},
   "source": [
    "Колмогоров:"
   ]
  },
  {
   "cell_type": "code",
   "execution_count": 99,
   "metadata": {},
   "outputs": [
    {
     "data": {
      "text/plain": [
       "np.float64(0.039681879538114355)"
      ]
     },
     "execution_count": 99,
     "metadata": {},
     "output_type": "execute_result"
    }
   ],
   "source": [
    "p = np.array([5,8,6,12,14,18,11,6,13,7])\n",
    "F_emp = np.array([sum(p[:i]) for i in range(len(p)+1)]) / 100\n",
    "F_th = np.arange(10) / 10\n",
    "\n",
    "for j in range(10):\n",
    "        sup = max(sup, abs(F_th[j] - F_emp[j]))\n",
    "        sup = max(sup, abs(F_th[j] - F_emp[j + 1]))\n",
    "\n",
    "delta = 10 * sup\n",
    "\n",
    "kolmogorov(delta)\n"
   ]
  },
  {
   "cell_type": "markdown",
   "metadata": {},
   "source": [
    "вычисление дельта по ОМПГ"
   ]
  },
  {
   "cell_type": "code",
   "execution_count": 100,
   "metadata": {},
   "outputs": [
    {
     "data": {
      "text/plain": [
       "np.float64(16.871067048068724)"
      ]
     },
     "execution_count": 100,
     "metadata": {},
     "output_type": "execute_result"
    }
   ],
   "source": [
    "segments = np.array([(-np.inf, 1), (1, 2), (2, 3), (3, 4), (4, 5), (5, 6), (6, 7), (7, 8), (8, 9), (9, np.inf)])\n",
    "\n",
    "sample = np.array([*[0] * 5, *[1] * 8, *[2] * 6, *[3]*12, *[4]*14,*[5]*18,*[6]*11,*[7]*6,*[8]*13,*[9]*7])\n",
    "\n",
    "alpha = np.mean(sample)\n",
    "disp = (np.var(sample) * 100 / 99) ** 0.5\n",
    "\n",
    "def F_norm(x, mean1 = alpha, sigma1 = disp):\n",
    "    return 0.5 * (1 + math.erf((x - mean1)/(np.sqrt(2) * sigma1)))\n",
    "\n",
    "P = []\n",
    "\n",
    "for i in segments:\n",
    "    P.append(F_norm(i[1]) - F_norm(i[0]))\n",
    "\n",
    "delta = sum((100 * P[i] - p[i]) ** 2 / 100 / P[i] for i in range(10))\n",
    "delta"
   ]
  },
  {
   "cell_type": "markdown",
   "metadata": {},
   "source": [
    "Вычисление p-value с помощью параметрического бутстрапа:"
   ]
  },
  {
   "cell_type": "code",
   "execution_count": 101,
   "metadata": {},
   "outputs": [
    {
     "name": "stdout",
     "output_type": "stream",
     "text": [
      "4.77 2.5180359509953494\n"
     ]
    }
   ],
   "source": [
    "sample = np.array([*[0] * 5, *[1] * 8, *[2] * 6, *[3]*12, *[4]*14,*[5]*18,*[6]*11,*[7]*6,*[8]*13,*[9]*7])\n",
    "\n",
    "alpha = np.mean(sample)\n",
    "disp = (np.var(sample) * 100 / 99) ** 0.5\n",
    "\n",
    "print(alpha, disp)"
   ]
  },
  {
   "cell_type": "code",
   "execution_count": 102,
   "metadata": {},
   "outputs": [
    {
     "data": {
      "text/plain": [
       "np.float64(0.0167)"
      ]
     },
     "execution_count": 102,
     "metadata": {},
     "output_type": "execute_result"
    }
   ],
   "source": [
    "iterations = 10000\n",
    "\n",
    "def F_norm(x, mean1, sigma1):\n",
    "    return 0.5 * (1 + math.erf((x - mean1)/(np.sqrt(2) * sigma1)))\n",
    "\n",
    "p = np.array([5,8,6,12,14,18,11,6,13,7])\n",
    "F_emp = np.array([sum(p[:i]) for i in range(len(p)+1)]) / 100\n",
    "x = np.arange(10)\n",
    "delta_wave = 10 * np.max([max(np.abs(F_norm(x[i], alpha, disp) - F_emp[i]),\n",
    "                                      np.abs(F_norm(x[i], alpha, disp) - F_emp[i+1])) for i in range(10)])\n",
    "\n",
    "sample_b = []\n",
    "\n",
    "for i in range(iterations):\n",
    "    sample = np.random.normal(alpha, disp, 100)\n",
    "    sample = sorted(sample)\n",
    "    sample_b.append(sample)\n",
    "\n",
    "\n",
    "\n",
    "delta_z = []\n",
    "\n",
    "for i in range(iterations):\n",
    "    alpha_z = np.mean(sample_b[i])\n",
    "    disp_z = (np.var(sample_b[i]) * 100 / 99) ** 0.5\n",
    "    F = 0.0\n",
    "    sup = 0\n",
    "\n",
    "    for j in range(100):\n",
    "        sup = max(sup, abs(F_norm(sample_b[i][j], alpha_z, disp_z) - F))\n",
    "        F += 1/100\n",
    "        sup = max(sup, abs(F_norm(sample_b[i][j], alpha_z, disp_z) - F))\n",
    "    \n",
    "    delta_z.append(10 * sup)\n",
    "    \n",
    "sum(delta_z >= delta_wave) / iterations"
   ]
  },
  {
   "cell_type": "markdown",
   "metadata": {},
   "source": [
    "Сравнение: отвергаем первую гипотезу, вторую тоже"
   ]
  }
 ],
 "metadata": {
  "kernelspec": {
   "display_name": "venv",
   "language": "python",
   "name": "python3"
  },
  "language_info": {
   "codemirror_mode": {
    "name": "ipython",
    "version": 3
   },
   "file_extension": ".py",
   "mimetype": "text/x-python",
   "name": "python",
   "nbconvert_exporter": "python",
   "pygments_lexer": "ipython3",
   "version": "3.12.3"
  }
 },
 "nbformat": 4,
 "nbformat_minor": 2
}
