{
 "cells": [
  {
   "cell_type": "code",
   "execution_count": 159,
   "metadata": {},
   "outputs": [],
   "source": [
    "import scipy.stats as sps\n",
    "import numpy as np\n",
    "import ipywidgets as widgets\n",
    "import matplotlib.pyplot as plt\n",
    "import scipy"
   ]
  },
  {
   "cell_type": "code",
   "execution_count": 160,
   "metadata": {},
   "outputs": [],
   "source": [
    "class X_gen(sps.rv_continuous):\n",
    "    teta = 100.0\n",
    "\n",
    "    def _pdf(self, x):\n",
    "        return (self.teta - 1) / x ** self.teta \n",
    "\n",
    "X = X_gen(a = 1)\n",
    "\n"
   ]
  },
  {
   "cell_type": "code",
   "execution_count": 161,
   "metadata": {},
   "outputs": [],
   "source": [
    "data = X.rvs(size = 100)"
   ]
  },
  {
   "cell_type": "markdown",
   "metadata": {},
   "source": [
    "Доверительный интервал для медианы"
   ]
  },
  {
   "cell_type": "code",
   "execution_count": 162,
   "metadata": {},
   "outputs": [
    {
     "name": "stdout",
     "output_type": "stream",
     "text": [
      "(1.0051427649524158, 1.0076601512659278)\n"
     ]
    }
   ],
   "source": [
    "b = 0.95\n",
    "\n",
    "teta1 = 1 + 100.0 / np.sum(np.log(data))\n",
    "\n",
    "grad_g = - np.log(2) * 2 ** (1.0 / (teta1 - 1)) / (teta1 - 1) ** 2\n",
    "\n",
    "g_teta1 = 2 ** (1 / (teta1 - 1))\n",
    "\n",
    "I = 1 / (teta1 - 1) ** 2\n",
    "\n",
    "lower_bound = -1.96 * np.sqrt(I ** (-1) * grad_g ** 2) / 10 + g_teta1\n",
    "upper_bound = 1.96 * np.sqrt(I ** (-1) * grad_g ** 2) / 10 + g_teta1\n",
    "\n",
    "print(f\"({lower_bound}, {upper_bound})\")"
   ]
  },
  {
   "cell_type": "markdown",
   "metadata": {},
   "source": [
    "Асимптотический доверительный интервал (ОМП)"
   ]
  },
  {
   "cell_type": "code",
   "execution_count": 163,
   "metadata": {},
   "outputs": [
    {
     "name": "stdout",
     "output_type": "stream",
     "text": [
      "(88.33512927508461, 130.9164360858224)\n"
     ]
    }
   ],
   "source": [
    "b = 0.95\n",
    "teta1 = 1 + 100.0 / np.sum(np.log(data))\n",
    "\n",
    "grad_g = 1\n",
    "\n",
    "g_teta1 = teta1\n",
    "\n",
    "I = 1 / (teta1 - 1) ** 2\n",
    "\n",
    "lower_bound = -1.96 * np.sqrt(I ** (-1) * grad_g ** 2) / 10 + g_teta1\n",
    "upper_bound = 1.96 * np.sqrt(I ** (-1) * grad_g ** 2) / 10 + g_teta1\n",
    "\n",
    "print(f\"({lower_bound}, {upper_bound})\")\n"
   ]
  },
  {
   "cell_type": "markdown",
   "metadata": {},
   "source": [
    "Бутстраповский доверительный интервал (непараметрический)"
   ]
  },
  {
   "cell_type": "code",
   "execution_count": 164,
   "metadata": {},
   "outputs": [
    {
     "name": "stdout",
     "output_type": "stream",
     "text": [
      "(84.04984185634174, 127.37674225819801)\n"
     ]
    }
   ],
   "source": [
    "b = 0.95\n",
    "iterations = 1000\n",
    "\n",
    "teta1 = 1 + 100.0 / np.sum(np.log(data))\n",
    "\n",
    "bootstrap = []\n",
    "\n",
    "for _ in range(iterations):\n",
    "    arr = np.random.choice(data, size = 100)\n",
    "    bootstrap.append(1 + 100.0 / np.sum(np.log(arr)) - teta1)\n",
    "\n",
    "variation = sorted(bootstrap)\n",
    "\n",
    "t1 = variation[int((1 - b) * iterations / 2)]\n",
    "t2 = variation[int((1 + b) * iterations / 2)]\n",
    "\n",
    "lower_bound = teta1 - t2\n",
    "upper_bound = teta1 - t1\n",
    "\n",
    "print(f\"({lower_bound}, {upper_bound})\")"
   ]
  },
  {
   "cell_type": "markdown",
   "metadata": {},
   "source": [
    "Параметрический бутстрап"
   ]
  },
  {
   "cell_type": "code",
   "execution_count": 165,
   "metadata": {},
   "outputs": [
    {
     "name": "stdout",
     "output_type": "stream",
     "text": [
      "(96.6494192247509, 136.26674446503557)\n"
     ]
    }
   ],
   "source": [
    "b = 0.95\n",
    "iterations = 50000\n",
    "\n",
    "teta1 = 1 + 100.0 / np.sum(np.log(data))\n",
    "\n",
    "bootstrap = []\n",
    "\n",
    "for _ in range(iterations):\n",
    "    arr = X.rvs(size = 100)\n",
    "    bootstrap.append(1 + 100.0 / np.sum(np.log(arr)) - teta1)\n",
    "\n",
    "variation = sorted(bootstrap)\n",
    "\n",
    "t1 = variation[int((1 - b) * iterations / 2)]\n",
    "t2 = variation[int((1 + b) * iterations / 2)]\n",
    "\n",
    "lower_bound = teta1 - t2\n",
    "upper_bound = teta1 - t1\n",
    "\n",
    "print(f\"({lower_bound}, {upper_bound})\")"
   ]
  },
  {
   "cell_type": "markdown",
   "metadata": {},
   "source": [
    "Сравнение:\n",
    "Длины интервалов практически совпадают друг с другом"
   ]
  }
 ],
 "metadata": {
  "kernelspec": {
   "display_name": "venv",
   "language": "python",
   "name": "python3"
  },
  "language_info": {
   "codemirror_mode": {
    "name": "ipython",
    "version": 3
   },
   "file_extension": ".py",
   "mimetype": "text/x-python",
   "name": "python",
   "nbconvert_exporter": "python",
   "pygments_lexer": "ipython3",
   "version": "3.12.3"
  }
 },
 "nbformat": 4,
 "nbformat_minor": 2
}
