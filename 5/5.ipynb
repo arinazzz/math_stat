{
 "cells": [
  {
   "cell_type": "code",
   "execution_count": 1,
   "metadata": {},
   "outputs": [],
   "source": [
    "import scipy.stats as sps\n",
    "import numpy as np\n",
    "import ipywidgets as widgets\n",
    "import matplotlib.pyplot as plt\n",
    "import scipy"
   ]
  },
  {
   "cell_type": "code",
   "execution_count": 2,
   "metadata": {},
   "outputs": [],
   "source": [
    "teta = 1000"
   ]
  },
  {
   "cell_type": "code",
   "execution_count": 3,
   "metadata": {},
   "outputs": [],
   "source": [
    "data = sps.uniform(loc=teta, scale=teta).rvs(100)"
   ]
  },
  {
   "cell_type": "markdown",
   "metadata": {},
   "source": [
    "Точный доверительный интервал"
   ]
  },
  {
   "cell_type": "code",
   "execution_count": 4,
   "metadata": {},
   "outputs": [
    {
     "name": "stdout",
     "output_type": "stream",
     "text": [
      "(997.5139523158557, 1015.7818230050875)\n"
     ]
    }
   ],
   "source": [
    "b = 0.95\n",
    "\n",
    "x_max = max(data)\n",
    "lower_bound = x_max/(1 + ((1 + b) / 2) ** (1 / 100))\n",
    "upper_bound = x_max/(1 + ((1 - b) / 2) ** (1 / 100))\n",
    "\n",
    "print(f\"({lower_bound}, {upper_bound})\")"
   ]
  },
  {
   "cell_type": "markdown",
   "metadata": {},
   "source": [
    "Асимптотический доверительный интервал (ОММ)"
   ]
  },
  {
   "cell_type": "code",
   "execution_count": 5,
   "metadata": {},
   "outputs": [
    {
     "name": "stdout",
     "output_type": "stream",
     "text": [
      "(952.9899498732104, 1027.632645262008)\n"
     ]
    }
   ],
   "source": [
    "b = 0.95\n",
    "teta1 = 2.0 / 3.0 * np.mean(data)\n",
    "\n",
    "s = np.sqrt((np.sum([(x - np.mean(data)) ** 2 for x in data]))/(100-1))\n",
    "\n",
    "lower_bound = teta1 - 2 * s * 1.96 * np.sqrt(100 - 1)/(3 * 100)\n",
    "upper_bound = teta1 + 2 * s * 1.96 * np.sqrt(100 - 1)/(3 * 100)\n",
    "print(f\"({lower_bound}, {upper_bound})\")\n"
   ]
  },
  {
   "cell_type": "markdown",
   "metadata": {},
   "source": [
    "Бутстраповский доверительный интервал"
   ]
  },
  {
   "cell_type": "code",
   "execution_count": 6,
   "metadata": {},
   "outputs": [
    {
     "name": "stdout",
     "output_type": "stream",
     "text": [
      "(1002.3498217965978, 1034.0959383637232)\n"
     ]
    }
   ],
   "source": [
    "b = 0.95\n",
    "iterations = 1000\n",
    "\n",
    "teta2 = (100 + 1) * max(data)/ (2 * 100 + 1)\n",
    "\n",
    "bootstrap = []\n",
    "\n",
    "for _ in range(iterations):\n",
    "    arr = np.random.choice(data, size = 100)\n",
    "    bootstrap.append((100 + 1) * max(arr)/ (2 * 100 + 1) - teta2)\n",
    "\n",
    "variation = sorted(bootstrap)\n",
    "\n",
    "t1 = variation[int((1 - b) * iterations / 2)]\n",
    "t2 = variation[int((1 + b) * iterations / 2)]\n",
    "\n",
    "lower_bound = teta2 - t2\n",
    "upper_bound = teta2 - t1\n",
    "\n",
    "print(f\"({lower_bound}, {upper_bound})\")"
   ]
  },
  {
   "cell_type": "markdown",
   "metadata": {},
   "source": [
    "Сравнение:\n",
    "Длина непараметрического дов. интервала < точного < асимптотического\n",
    "\n",
    "Метод бутсрапа занижает оценку доверительного интервала, а асимптотический дает худшую оценку, чем точный доверительный интервал."
   ]
  }
 ],
 "metadata": {
  "kernelspec": {
   "display_name": "venv",
   "language": "python",
   "name": "python3"
  },
  "language_info": {
   "codemirror_mode": {
    "name": "ipython",
    "version": 3
   },
   "file_extension": ".py",
   "mimetype": "text/x-python",
   "name": "python",
   "nbconvert_exporter": "python",
   "pygments_lexer": "ipython3",
   "version": "3.12.3"
  }
 },
 "nbformat": 4,
 "nbformat_minor": 2
}
