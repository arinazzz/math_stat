{
 "cells": [
  {
   "cell_type": "code",
   "execution_count": 4,
   "metadata": {},
   "outputs": [],
   "source": [
    "import numpy as np"
   ]
  },
  {
   "cell_type": "code",
   "execution_count": 5,
   "metadata": {},
   "outputs": [
    {
     "name": "stderr",
     "output_type": "stream",
     "text": [
      "/tmp/ipykernel_5091/2576186832.py:7: DeprecationWarning: Calling np.sum(generator) is deprecated, and in the future will give a different result. Use np.sum(np.fromiter(generator)) or the python sum builtin instead.\n",
      "  delta = np.sum((m[i][j] - n * p[i] * q[j]) ** 2 / (n * p[i] * q[j]) for i in range(2) for j in range(3))\n"
     ]
    },
    {
     "data": {
      "text/plain": [
       "np.float64(20.48264235764236)"
      ]
     },
     "execution_count": 5,
     "metadata": {},
     "output_type": "execute_result"
    }
   ],
   "source": [
    "n = 200\n",
    "p = np.array([1/ 2, 1 / 2])\n",
    "q = np.array([77, 91, 32]) / 200\n",
    "\n",
    "m = np.array([[25, 50, 25], [52, 41, 7]])\n",
    "\n",
    "delta = np.sum((m[i][j] - n * p[i] * q[j]) ** 2 / (n * p[i] * q[j]) for i in range(2) for j in range(3))\n",
    "\n",
    "delta"
   ]
  }
 ],
 "metadata": {
  "kernelspec": {
   "display_name": "venv",
   "language": "python",
   "name": "python3"
  },
  "language_info": {
   "codemirror_mode": {
    "name": "ipython",
    "version": 3
   },
   "file_extension": ".py",
   "mimetype": "text/x-python",
   "name": "python",
   "nbconvert_exporter": "python",
   "pygments_lexer": "ipython3",
   "version": "3.12.3"
  }
 },
 "nbformat": 4,
 "nbformat_minor": 2
}
